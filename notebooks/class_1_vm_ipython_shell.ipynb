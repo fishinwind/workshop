{
 "metadata": {
  "name": ""
 },
 "nbformat": 3,
 "nbformat_minor": 0,
 "worksheets": [
  {
   "cells": [
    {
     "cell_type": "heading",
     "level": 1,
     "metadata": {},
     "source": [
      "Class Structure"
     ]
    },
    {
     "cell_type": "markdown",
     "metadata": {},
     "source": [
      "We will have interactive classes using this IPython notebook format (which we will cover in more detail)\n",
      "\n",
      "The goal of the class is to teach practical tools for anyone to be able to perform an analysis using **linux**."
     ]
    },
    {
     "cell_type": "markdown",
     "metadata": {},
     "source": [
      "Goals\n",
      "-----\n",
      "1. Introduce the Virtual Machine\n",
      "2. Introduce simple programming concepts in Python, Bash and R"
     ]
    },
    {
     "cell_type": "heading",
     "level": 1,
     "metadata": {},
     "source": [
      "Virtual Machine"
     ]
    },
    {
     "cell_type": "markdown",
     "metadata": {},
     "source": [
      "To give everyone easy access to linux and to some example data, we have prepared a virtual machine with the software and data that we will be using. The machine gives you a full Linux installation, with a variety of standard tools available. In addition, we have loaded the machines with Python and R libraries that we will use in the class.\n",
      "\n",
      "You can and should run this on your laptop. The machine runs in VirtualBox (https://www.virtualbox.org/), an OS emulator. You just double click the disk image and then run the machine.\n",
      "\n",
      "If you run into trouble with your machine, just let us know and we can provide you with a fresh installation. Note that all data saved on your USB stick will be lost if you lose the stick, drop it in the sink, etc."
     ]
    },
    {
     "cell_type": "heading",
     "level": 3,
     "metadata": {},
     "source": [
      "Using the Notebook with an open Terminal"
     ]
    },
    {
     "cell_type": "markdown",
     "metadata": {},
     "source": [
      "When you open the notebook, you should also open a Terminal process so that you can use what you learn in real programming setting. The Terminal gives you full access to file system and system utilities."
     ]
    },
    {
     "cell_type": "heading",
     "level": 1,
     "metadata": {},
     "source": [
      "    Programming (Python, Bash, R)"
     ]
    },
    {
     "cell_type": "markdown",
     "metadata": {},
     "source": [
      "You will be expected to write simple programs. These tools will be useful for any analysis you do in the future.\n",
      "\n",
      "**Python** is a general-purpose programming language, we will use it to read files, filter on values, and to examine our data.\n",
      "Here is an example python program that reads a file and prints out lines that meet some criteria"
     ]
    },
    {
     "cell_type": "code",
     "collapsed": false,
     "input": [
      "for line in open('input.txt'):\n",
      "    parts = line.split(\",\")\n",
      "    if int(parts[1]) > 2000 and int(parts[3]) < 33000:\n",
      "        print line,"
     ],
     "language": "python",
     "metadata": {},
     "outputs": [
      {
       "ename": "IOError",
       "evalue": "[Errno 2] No such file or directory: 'input.txt'",
       "output_type": "pyerr",
       "traceback": [
        "\u001b[0;31m---------------------------------------------------------------------------\u001b[0m\n\u001b[0;31mIOError\u001b[0m                                   Traceback (most recent call last)",
        "\u001b[0;32m<ipython-input-1-42a45967bd27>\u001b[0m in \u001b[0;36m<module>\u001b[0;34m()\u001b[0m\n\u001b[0;32m----> 1\u001b[0;31m \u001b[0;32mfor\u001b[0m \u001b[0mline\u001b[0m \u001b[0;32min\u001b[0m \u001b[0mopen\u001b[0m\u001b[0;34m(\u001b[0m\u001b[0;34m'input.txt'\u001b[0m\u001b[0;34m)\u001b[0m\u001b[0;34m:\u001b[0m\u001b[0;34m\u001b[0m\u001b[0m\n\u001b[0m\u001b[1;32m      2\u001b[0m     \u001b[0mparts\u001b[0m \u001b[0;34m=\u001b[0m \u001b[0mline\u001b[0m\u001b[0;34m.\u001b[0m\u001b[0msplit\u001b[0m\u001b[0;34m(\u001b[0m\u001b[0;34m\",\"\u001b[0m\u001b[0;34m)\u001b[0m\u001b[0;34m\u001b[0m\u001b[0m\n\u001b[1;32m      3\u001b[0m     \u001b[0;32mif\u001b[0m \u001b[0mint\u001b[0m\u001b[0;34m(\u001b[0m\u001b[0mparts\u001b[0m\u001b[0;34m[\u001b[0m\u001b[0;36m1\u001b[0m\u001b[0;34m]\u001b[0m\u001b[0;34m)\u001b[0m \u001b[0;34m>\u001b[0m \u001b[0;36m2000\u001b[0m \u001b[0;32mand\u001b[0m \u001b[0mint\u001b[0m\u001b[0;34m(\u001b[0m\u001b[0mparts\u001b[0m\u001b[0;34m[\u001b[0m\u001b[0;36m3\u001b[0m\u001b[0;34m]\u001b[0m\u001b[0;34m)\u001b[0m \u001b[0;34m<\u001b[0m \u001b[0;36m33000\u001b[0m\u001b[0;34m:\u001b[0m\u001b[0;34m\u001b[0m\u001b[0m\n\u001b[1;32m      4\u001b[0m         \u001b[0;32mprint\u001b[0m \u001b[0mline\u001b[0m\u001b[0;34m,\u001b[0m\u001b[0;34m\u001b[0m\u001b[0m\n",
        "\u001b[0;31mIOError\u001b[0m: [Errno 2] No such file or directory: 'input.txt'"
       ]
      }
     ],
     "prompt_number": 1
    },
    {
     "cell_type": "code",
     "collapsed": false,
     "input": [
      "%%bash\n",
      "for i in $(seq 1 100); do\n",
      "    if [[ $i -lt 6 ]]; then\n",
      "        echo $i\n",
      "    fi\n",
      "done"
     ],
     "language": "python",
     "metadata": {},
     "outputs": [
      {
       "output_type": "stream",
       "stream": "stdout",
       "text": [
        "1\n",
        "2\n",
        "3\n",
        "4\n",
        "5\n"
       ]
      }
     ],
     "prompt_number": 5
    },
    {
     "cell_type": "code",
     "collapsed": false,
     "input": [],
     "language": "python",
     "metadata": {},
     "outputs": []
    },
    {
     "cell_type": "markdown",
     "metadata": {},
     "source": [
      "That example will print out lines where the 2nd column is above 2000 and the 3rd column is < 33K.\n",
      "\n",
      "We will use Learning Python the Hard Way to teach Python programming concepts. We will cover some of the basic material in class, but we expect you to go through these lessons on your own. Learning to programming is difficult, but stick with it! After a while, the basics are second nature.\n",
      "\n",
      "\n",
      "\n"
     ]
    },
    {
     "cell_type": "markdown",
     "metadata": {},
     "source": [
      "**Bash** is another scripting language. Bash is where we will type all of our commands. We will create bash scripts to keep a reproducible record of those commands. **Bash** is the access point to a number of **linux** utilities that we will be using.\n",
      "\n"
     ]
    },
    {
     "cell_type": "markdown",
     "metadata": {},
     "source": [
      "**R** is a statistical language that is very good for visualization and for doing some types of bioinformatic analyses.\n"
     ]
    }
   ],
   "metadata": {}
  }
 ]
}