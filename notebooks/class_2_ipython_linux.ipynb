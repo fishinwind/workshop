{
 "metadata": {
  "name": ""
 },
 "nbformat": 3,
 "nbformat_minor": 0,
 "worksheets": [
  {
   "cells": [
    {
     "cell_type": "heading",
     "level": 1,
     "metadata": {
      "slideshow": {
       "slide_type": "slide"
      }
     },
     "source": [
      "Goals"
     ]
    },
    {
     "cell_type": "markdown",
     "metadata": {
      "slideshow": {
       "slide_type": "fragment"
      }
     },
     "source": [
      "0. Introduce IPython notebook\n",
      "1. continue learning to navigate within the terminal\n",
      "2. understand the linux philosophy (small tools that do one thing well)\n",
      "3. understand how to apply some common linux utilities to files\n",
      "4. understand how to chain these operations"
     ]
    },
    {
     "cell_type": "heading",
     "level": 2,
     "metadata": {
      "slideshow": {
       "slide_type": "slide"
      }
     },
     "source": [
      "Ipython"
     ]
    },
    {
     "cell_type": "markdown",
     "metadata": {
      "slideshow": {
       "slide_type": "fragment"
      }
     },
     "source": [
      "http://ipython.org/ is an enhanced python shell\n",
      "\n",
      "We will use it to create and host our slides and run, share example code.\n",
      "\n",
      "It is included on your instance.\n",
      "\n",
      "You can start an ipython notebook server with"
     ]
    },
    {
     "cell_type": "markdown",
     "metadata": {
      "slideshow": {
       "slide_type": "fragment"
      }
     },
     "source": [
      "```\n",
      "$ ipython notebook\n",
      "```"
     ]
    },
    {
     "cell_type": "heading",
     "level": 2,
     "metadata": {
      "slideshow": {
       "slide_type": "slide"
      }
     },
     "source": [
      "Unix Philosophy"
     ]
    },
    {
     "cell_type": "markdown",
     "metadata": {
      "slideshow": {
       "slide_type": "fragment"
      }
     },
     "source": [
      "+ Small is beautiful.\n",
      "+ Make each program do one thing well.\n",
      "+ Choose portability over efficiency.\n",
      "+ Store data in flat text files.\n",
      "+ Use software leverage to your advantage.\n",
      "+ Use shell scripts to increase leverage and portability.\n",
      "+ Make every program a filter.\n",
      "\n",
      "(From Mike Gancarz http://en.wikipedia.org/wiki/Unix_philosophy)"
     ]
    },
    {
     "cell_type": "heading",
     "level": 3,
     "metadata": {
      "slideshow": {
       "slide_type": "slide"
      }
     },
     "source": [
      "Where / What Are Your Files?"
     ]
    },
    {
     "cell_type": "markdown",
     "metadata": {
      "slideshow": {
       "slide_type": "fragment"
      }
     },
     "source": [
      "Where are you?"
     ]
    },
    {
     "cell_type": "code",
     "collapsed": false,
     "input": [
      "%%bash\n",
      "pwd"
     ],
     "language": "python",
     "metadata": {
      "slideshow": {
       "slide_type": "fragment"
      }
     },
     "outputs": [
      {
       "output_type": "stream",
       "stream": "stdout",
       "text": [
        "/usr/local/src/bio-workshop/data/common\n"
       ]
      }
     ],
     "prompt_number": 7
    },
    {
     "cell_type": "code",
     "collapsed": false,
     "input": [
      "import os\n",
      "os.chdir(\"/usr/local/src/bio-workshop/data/common\")\n"
     ],
     "language": "python",
     "metadata": {},
     "outputs": [],
     "prompt_number": 14
    },
    {
     "cell_type": "markdown",
     "metadata": {
      "slideshow": {
       "slide_type": "fragment"
      }
     },
     "source": [
      "How do  you get where you're going?"
     ]
    },
    {
     "cell_type": "code",
     "collapsed": false,
     "input": [
      "%%bash\n",
      "cd ../data/common/"
     ],
     "language": "python",
     "metadata": {
      "slideshow": {
       "slide_type": "fragment"
      }
     },
     "outputs": [
      {
       "output_type": "stream",
       "stream": "stderr",
       "text": [
        "bash: line 1: cd: ../data/common/: No such file or directory\n"
       ]
      }
     ],
     "prompt_number": 6
    },
    {
     "cell_type": "markdown",
     "metadata": {
      "slideshow": {
       "slide_type": "fragment"
      }
     },
     "source": [
      "What is in the current directory?\n"
     ]
    },
    {
     "cell_type": "code",
     "collapsed": false,
     "input": [
      "%%bash\n",
      "ls -lh | head"
     ],
     "language": "python",
     "metadata": {
      "slideshow": {
       "slide_type": "fragment"
      }
     },
     "outputs": [
      {
       "output_type": "stream",
       "stream": "stdout",
       "text": [
        "total 5.3G\n",
        "-rw-rw-r-- 1 brentp brentp 1.6G Aug 20 15:54 GM12878_DNAse_REP1.fastq.gz\n",
        "-rw-rw-r-- 1 brentp brentp 305M Aug 20 15:56 GM12878_DNAse_REP2.fastq.gz\n",
        "-rw-rw-r-- 1 brentp brentp 2.9G Aug 20 16:20 GM12878_DNAse_REP3.fastq.gz\n",
        "-rw-rw-r-- 1 brentp brentp 603M Aug 20 16:25 GM12878_input.fastq.gz\n",
        "-rw-rw-r-- 1 brentp brentp 3.3K Sep  9 15:52 ex.fastq\n"
       ]
      }
     ],
     "prompt_number": 18
    },
    {
     "cell_type": "markdown",
     "metadata": {
      "slideshow": {
       "slide_type": "fragment"
      }
     },
     "source": [
      "These are **fastq** sequence files that are compressed (they end in .gz)\n",
      "In general, FASTQ files have 4 lines per record\n",
      "\n",
      "What size is your file?\n"
     ]
    },
    {
     "cell_type": "code",
     "collapsed": false,
     "input": [
      "%%bash\n",
      "ls -lh ex.fastq"
     ],
     "language": "python",
     "metadata": {},
     "outputs": [
      {
       "output_type": "stream",
       "stream": "stdout",
       "text": [
        "-rw-rw-r-- 1 brentp brentp 3.3K Sep  9 15:52 ex.fastq\n"
       ]
      }
     ],
     "prompt_number": 19
    },
    {
     "cell_type": "markdown",
     "metadata": {
      "slideshow": {
       "slide_type": "fragment"
      }
     },
     "source": [
      "Often we want to see the first few lines of a file:\n"
     ]
    },
    {
     "cell_type": "code",
     "collapsed": false,
     "input": [
      "%%bash\n",
      "head ex.fastq"
     ],
     "language": "python",
     "metadata": {},
     "outputs": [
      {
       "output_type": "stream",
       "stream": "stdout",
       "text": [
        "@USI-EAS39_2_FC302MF_1_1_134_1241\n",
        "GTGTTCAACTTTCTGTGCTTCTGCTGTTCTGAA\n",
        "+USI-EAS39_2_FC302MF_1_1_134_1241\n",
        "IIIIIIIIIIIICIIIIIIIIIAII<IIII?II\n",
        "@USI-EAS39_2_FC302MF_1_1_162_739\n",
        "GGTGAAGATTTCTACCAGTTTCTTCCCATTTGC\n",
        "+USI-EAS39_2_FC302MF_1_1_162_739\n",
        "IIFIIIIIIIIIIII1IIII&II=IIIIII&I(\n",
        "@USI-EAS39_2_FC302MF_1_1_161_689\n",
        "GATTTTCAAATTCCAGAAGAGAAACCACAGTAT\n"
       ]
      }
     ],
     "prompt_number": 23
    },
    {
     "cell_type": "markdown",
     "metadata": {
      "slideshow": {
       "slide_type": "slide"
      }
     },
     "source": [
      "Or the last few lines:\n"
     ]
    },
    {
     "cell_type": "code",
     "collapsed": false,
     "input": [
      "%%bash \n",
      "tail ex.fastq"
     ],
     "language": "python",
     "metadata": {
      "slideshow": {
       "slide_type": "fragment"
      }
     },
     "outputs": [
      {
       "output_type": "stream",
       "stream": "stdout",
       "text": [
        "+USI-EAS39_2_FC302MF_1_1_194_1237\n",
        "IIIIIIIIIIIIIIIIIIIIIIIIIIIIIIIIE\n",
        "@USI-EAS39_2_FC302MF_1_1_204_1678\n",
        "GATGTGAGAGATAGATCCAAAAAGACTTAAAGA\n",
        "+USI-EAS39_2_FC302MF_1_1_204_1678\n",
        "IIIIIIIIIIIIIIIIIIIIIIIIIIIIIFIII\n",
        "@USI-EAS39_2_FC302MF_1_1_178_1731\n",
        "GAAGTAAACCATGAAAAAGCAAATGATGTGAAA\n",
        "+USI-EAS39_2_FC302MF_1_1_178_1731\n",
        "IIIIIIIIIIIIIIIIIIIIIIIIIIIIIIIII\n"
       ]
      }
     ],
     "prompt_number": 24
    },
    {
     "cell_type": "markdown",
     "metadata": {
      "slideshow": {
       "slide_type": "fragment"
      }
     },
     "source": [
      "Or a specific number of lines. Note that most *bash* commands will take optional arguments, such as \"-n 4\" here, meaning show the first 4 lines of this file.\n"
     ]
    },
    {
     "cell_type": "code",
     "collapsed": false,
     "input": [
      "%%bash\n",
      "head -n 4 ex.fastq"
     ],
     "language": "python",
     "metadata": {
      "slideshow": {
       "slide_type": "fragment"
      }
     },
     "outputs": [
      {
       "output_type": "stream",
       "stream": "stdout",
       "text": [
        "@USI-EAS39_2_FC302MF_1_1_134_1241\n",
        "GTGTTCAACTTTCTGTGCTTCTGCTGTTCTGAA\n",
        "+USI-EAS39_2_FC302MF_1_1_134_1241\n",
        "IIIIIIIIIIIICIIIIIIIIIAII<IIII?II\n"
       ]
      }
     ],
     "prompt_number": 25
    },
    {
     "cell_type": "markdown",
     "metadata": {
      "slideshow": {
       "slide_type": "fragment"
      }
     },
     "source": [
      "How many lines in the file?\n",
      "The -l flag to the *wc* command says to tell the number of lines"
     ]
    },
    {
     "cell_type": "code",
     "collapsed": false,
     "input": [
      "%%bash\n",
      "wc -l ex.fastq"
     ],
     "language": "python",
     "metadata": {
      "slideshow": {
       "slide_type": "fragment"
      }
     },
     "outputs": [
      {
       "output_type": "stream",
       "stream": "stdout",
       "text": [
        "100 ex.fastq\n"
       ]
      }
     ],
     "prompt_number": 27
    },
    {
     "cell_type": "markdown",
     "metadata": {},
     "source": [
      "To see the number of characters, we can do:"
     ]
    },
    {
     "cell_type": "code",
     "collapsed": false,
     "input": [
      "%%bash\n",
      "wc -c ex.fastq"
     ],
     "language": "python",
     "metadata": {},
     "outputs": [
      {
       "output_type": "stream",
       "stream": "stdout",
       "text": [
        "3378 ex.fastq\n"
       ]
      }
     ],
     "prompt_number": 28
    },
    {
     "cell_type": "heading",
     "level": 1,
     "metadata": {
      "slideshow": {
       "slide_type": "subslide"
      }
     },
     "source": [
      "What is a FASTQ?"
     ]
    },
    {
     "cell_type": "markdown",
     "metadata": {
      "slideshow": {
       "slide_type": "fragment"
      }
     },
     "source": [
      "A *FASTQ* is a sequence file with quality information. It will be the starting point for many analyses (any -seq analyses you've heard of ChIP-seq, RNA-Seq, etc). Generally, it will consist of 4 lines per record:\n",
      "\n",
      "1. The sequence name. This may include information about the lane and cell it was run on and must be unique throughout the files\n",
      "2. The sequence (ACGT...)\n",
      "3. '+' (/shrug/)\n",
      "4. Quality scores. These are encoded numerical values that indicate the confidence in the corresponding base call\n",
      "\n",
      "Lines 2. and 4. should have the same length\n",
      "\n",
      "A single FASTQ record is not necessarily exactly 4 lines. But it will be for all data we encounter and data from all current sequencers + base-callers."
     ]
    },
    {
     "cell_type": "heading",
     "level": 2,
     "metadata": {
      "slideshow": {
       "slide_type": "slide"
      }
     },
     "source": [
      "Unix Philosophy In Action"
     ]
    },
    {
     "cell_type": "markdown",
     "metadata": {
      "slideshow": {
       "slide_type": "fragment"
      }
     },
     "source": [
      "As we saw before, some of the files in our directory were compressed (ending in .gz). We aren't able to look at them with *head* or *tail* because they are in binary"
     ]
    },
    {
     "cell_type": "code",
     "collapsed": false,
     "input": [
      "%%bash \n",
      "ls -lh\n"
     ],
     "language": "python",
     "metadata": {
      "slideshow": {
       "slide_type": "fragment"
      }
     },
     "outputs": [
      {
       "output_type": "stream",
       "stream": "stdout",
       "text": [
        "total 5.3G\n",
        "-rw-rw-r-- 1 brentp brentp 1.6G Aug 20 15:54 GM12878_DNAse_REP1.fastq.gz\n",
        "-rw-rw-r-- 1 brentp brentp 305M Aug 20 15:56 GM12878_DNAse_REP2.fastq.gz\n",
        "-rw-rw-r-- 1 brentp brentp 2.9G Aug 20 16:20 GM12878_DNAse_REP3.fastq.gz\n",
        "-rw-rw-r-- 1 brentp brentp 603M Aug 20 16:25 GM12878_input.fastq.gz\n",
        "-rw-rw-r-- 1 brentp brentp 3.3K Sep  9 15:52 ex.fastq\n"
       ]
      }
     ],
     "prompt_number": 29
    },
    {
     "cell_type": "markdown",
     "metadata": {},
     "source": [
      "We can unzip one of the files and check its size like this:"
     ]
    },
    {
     "cell_type": "code",
     "collapsed": false,
     "input": [
      "%%bash\n",
      "gunzip GM12878_input.fastq.gz\n",
      "\n",
      "ls -lh GM12878_input.fastq"
     ],
     "language": "python",
     "metadata": {},
     "outputs": [
      {
       "output_type": "stream",
       "stream": "stdout",
       "text": [
        "-rw-rw-r-- 1 brentp brentp 2.2G Aug 20 16:25 GM12878_input.fastq\n"
       ]
      }
     ],
     "prompt_number": 30
    },
    {
     "cell_type": "markdown",
     "metadata": {
      "slideshow": {
       "slide_type": "fragment"
      }
     },
     "source": [
      "Notice that the file is now 2.2G instead of 603M. Generally, you will send and recive FASTQ files in compressed format to save space.\n",
      "\n",
      "Let's zip it back up."
     ]
    },
    {
     "cell_type": "code",
     "collapsed": false,
     "input": [
      "%%bash\n",
      "gzip GM12878_input.fastq"
     ],
     "language": "python",
     "metadata": {},
     "outputs": [],
     "prompt_number": 31
    },
    {
     "cell_type": "markdown",
     "metadata": {
      "slideshow": {
       "slide_type": "fragment"
      }
     },
     "source": [
      "We can't \"see\" the file like before using *head* and *tail*.\n",
      "\n",
      "But, we can **PIPE** data from one command to another. Here, we unzip the file in a *stream* to the terminal (STDOUT)\n",
      "and send (pipe) that output to the *head* command:"
     ]
    },
    {
     "cell_type": "code",
     "collapsed": false,
     "input": [
      "%%bash\n",
      "zless GM12878_input.fastq.gz | head -n 4"
     ],
     "language": "python",
     "metadata": {
      "slideshow": {
       "slide_type": "fragment"
      }
     },
     "outputs": [
      {
       "output_type": "stream",
       "stream": "stdout",
       "text": [
        "@USI-EAS39_2_FC302MF_1_1_134_1241\n",
        "GTGTTCAACTTTCTGTGCTTCTGCTGTTCTGAA\n",
        "+USI-EAS39_2_FC302MF_1_1_134_1241\n",
        "IIIIIIIIIIIICIIIIIIIIIAII<IIII?II\n"
       ]
      }
     ],
     "prompt_number": 32
    },
    {
     "cell_type": "markdown",
     "metadata": {
      "slideshow": {
       "slide_type": "fragment"
      }
     },
     "source": [
      "Make sure you understand that!"
     ]
    },
    {
     "cell_type": "heading",
     "level": 1,
     "metadata": {
      "slideshow": {
       "slide_type": "slide"
      }
     },
     "source": [
      "Bash Help"
     ]
    },
    {
     "cell_type": "markdown",
     "metadata": {
      "slideshow": {
       "slide_type": "fragment"
      }
     },
     "source": [
      "What if you don't know how to use head?\n",
      "\n",
      "The **man** command will give you useful information on a command.\n",
      "\n",
      "Try '*man cut*' now. We'll be using the **cut** command shortly. What does it do?\n",
      "\n",
      "What does the **sort** command do?\n",
      "\n",
      "What does the **uniq** command do?\n",
      "\n",
      "We'll be using these shortly."
     ]
    },
    {
     "cell_type": "heading",
     "level": 1,
     "metadata": {
      "slideshow": {
       "slide_type": "slide"
      }
     },
     "source": [
      "Bash Pipes"
     ]
    },
    {
     "cell_type": "markdown",
     "metadata": {
      "slideshow": {
       "slide_type": "fragment"
      }
     },
     "source": [
      "We looked at \"|\"'ing bash commands together above. These are a central feature of the shell and will be used quite often.\n",
      "They are used to send the output of one command to another.\n",
      "\n",
      "Below, we will download (wget) some encode data, **cut** (extract) the 4th column that contains the name of the TFBS and do some analysis on it to tell us the 10 most common transcription factor binding sites in the first 12K lines of this ENCODE dataset. \n",
      "\n",
      "\n"
     ]
    },
    {
     "cell_type": "code",
     "collapsed": false,
     "input": [
      "%%bash\n",
      "FILE=http://hgdownload.cse.ucsc.edu/goldenPath/hg19/encodeDCC/wgEncodeRegTfbsClustered/wgEncodeRegTfbsClusteredV2.bed.gz\n",
      "\n",
      "wget --quiet -O - $FILE \\\n",
      "    | zcat - \\\n",
      "    | head -n 7000 \\\n",
      "    | cut -f 4 \\\n",
      "    | sort \\\n",
      "    | uniq -c \\\n",
      "    | sort -k1,1rn \\\n",
      "    | head -n 10"
     ],
     "language": "python",
     "metadata": {
      "slideshow": {
       "slide_type": "fragment"
      }
     },
     "outputs": [
      {
       "output_type": "stream",
       "stream": "stdout",
       "text": [
        "    304 Pol2\n",
        "    278 CTCF\n",
        "    218 Pol2-4H8\n",
        "    212 Egr-1\n",
        "    201 E2F6_(H-50)\n",
        "    196 ZBTB7A_(SC-34508)\n",
        "    167 ELF1_(SC-631)\n",
        "    152 HEY1\n",
        "    146 USF-1\n",
        "    139 ZNF263\n"
       ]
      },
      {
       "output_type": "stream",
       "stream": "stderr",
       "text": [
        "\n",
        "gzip: stdout: Broken pipe\n"
       ]
      }
     ],
     "prompt_number": 36
    },
    {
     "cell_type": "markdown",
     "metadata": {
      "slideshow": {
       "slide_type": "subslide"
      }
     },
     "source": [
      "Pol2 and CTCF are the most common binding site. This makes sense and matches what we know.\n",
      "\n",
      "The above is a fairly complex command (actually 8 commands), but each is very simple. In order, we:\n",
      "\n",
      "1. download (wget) the file to STDOUT (-)\n",
      "2. unzip (zcat) the file on the fly \n",
      "3. take the first 7K lines only (so we don't overload the server)\n",
      "4. extract (cut) out the 4th column (contains the TF name)\n",
      "5. sort the names in order\n",
      "6. count the occurence of each name (this requires sorted input, hence the preceding sort)\n",
      "   the output from uniq -c is 2 columns: count, name.\n",
      "7. sort the first column in reverse order as a number to get the most frequently occuring TF's at the top\n",
      "8. limit to the first 10 lines\n",
      "\n",
      "*Note that we can continue a command by placing a \"\\\" at the end of the line.*\n",
      "\n"
     ]
    },
    {
     "cell_type": "markdown",
     "metadata": {},
     "source": [
      "Let's go through that step-wise, remember what we want to accomplish:\n",
      "\n",
      "count the number of occurrences of each TF type (from the 4th column) in the first 7K lines of the file."
     ]
    },
    {
     "cell_type": "code",
     "collapsed": false,
     "input": [],
     "language": "python",
     "metadata": {},
     "outputs": []
    }
   ],
   "metadata": {}
  }
 ]
}