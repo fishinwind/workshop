{
 "metadata": {
  "name": ""
 },
 "nbformat": 3,
 "nbformat_minor": 0,
 "worksheets": [
  {
   "cells": [
    {
     "cell_type": "heading",
     "level": 1,
     "metadata": {
      "slideshow": {
       "slide_type": "slide"
      }
     },
     "source": [
      "Goals"
     ]
    },
    {
     "cell_type": "markdown",
     "metadata": {
      "slideshow": {
       "slide_type": "fragment"
      }
     },
     "source": [
      "0. Introduce IPython notebook\n",
      "1. continue learning to navigate within the terminal\n",
      "2. understand the linux philosophy (small tools that do one thing well)\n",
      "3. understand how to apply some common linux utilities to files\n",
      "4. understand how to chain these operations"
     ]
    },
    {
     "cell_type": "heading",
     "level": 2,
     "metadata": {
      "slideshow": {
       "slide_type": "slide"
      }
     },
     "source": [
      "Ipython"
     ]
    },
    {
     "cell_type": "markdown",
     "metadata": {
      "slideshow": {
       "slide_type": "fragment"
      }
     },
     "source": [
      "http://ipython.org/ is an enhanced python shell\n",
      "\n",
      "We will use it to create and host our slides and run, share example code.\n",
      "\n",
      "It is included on your instance.\n",
      "\n",
      "You can start an ipython notebook server with"
     ]
    },
    {
     "cell_type": "markdown",
     "metadata": {
      "slideshow": {
       "slide_type": "fragment"
      }
     },
     "source": [
      "```\n",
      "$ ipython notebook\n",
      "```"
     ]
    },
    {
     "cell_type": "heading",
     "level": 2,
     "metadata": {
      "slideshow": {
       "slide_type": "slide"
      }
     },
     "source": [
      "Unix Philosophy"
     ]
    },
    {
     "cell_type": "markdown",
     "metadata": {
      "slideshow": {
       "slide_type": "fragment"
      }
     },
     "source": [
      "+ Small is beautiful.\n",
      "+ Make each program do one thing well.\n",
      "+ Choose portability over efficiency.\n",
      "+ Store data in flat text files.\n",
      "+ Use software leverage to your advantage.\n",
      "+ Use shell scripts to increase leverage and portability.\n",
      "+ Make every program a filter.\n",
      "\n",
      "(From Mike Gancarz http://en.wikipedia.org/wiki/Unix_philosophy)"
     ]
    },
    {
     "cell_type": "heading",
     "level": 3,
     "metadata": {
      "slideshow": {
       "slide_type": "slide"
      }
     },
     "source": [
      "Where / What Are Your Files?"
     ]
    },
    {
     "cell_type": "markdown",
     "metadata": {
      "slideshow": {
       "slide_type": "fragment"
      }
     },
     "source": [
      "Where are you?"
     ]
    },
    {
     "cell_type": "code",
     "collapsed": false,
     "input": [
      "%%bash\n",
      "pwd"
     ],
     "language": "python",
     "metadata": {
      "slideshow": {
       "slide_type": "fragment"
      }
     },
     "outputs": [
      {
       "output_type": "stream",
       "stream": "stdout",
       "text": [
        "/home/brentp\n"
       ]
      }
     ],
     "prompt_number": 1
    },
    {
     "cell_type": "markdown",
     "metadata": {
      "slideshow": {
       "slide_type": "fragment"
      }
     },
     "source": [
      "How do  you get where you're going?"
     ]
    },
    {
     "cell_type": "code",
     "collapsed": false,
     "input": [
      "%%bash\n",
      "cd class1/data/"
     ],
     "language": "python",
     "metadata": {
      "slideshow": {
       "slide_type": "fragment"
      }
     },
     "outputs": [
      {
       "output_type": "stream",
       "stream": "stderr",
       "text": [
        "bash: line 1: cd: class1/data/: No such file or directory\n"
       ]
      }
     ],
     "prompt_number": 2
    },
    {
     "cell_type": "markdown",
     "metadata": {
      "slideshow": {
       "slide_type": "fragment"
      }
     },
     "source": [
      "What is in the current directory?\n"
     ]
    },
    {
     "cell_type": "code",
     "collapsed": false,
     "input": [
      "%%bash\n",
      "ls -lh | head"
     ],
     "language": "python",
     "metadata": {
      "slideshow": {
       "slide_type": "fragment"
      }
     },
     "outputs": [
      {
       "output_type": "stream",
       "stream": "stdout",
       "text": [
        "total 3.8M\n",
        "-rw-rw-r--  1 brentp brentp    0 Jul  8 11:29 0.97\n",
        "-rw-rw-r--  1 brentp brentp   72 Jul  3 11:32 C:\\nppdf32Log\\debuglog.txt\n",
        "drwxr-xr-x  2 brentp brentp 4.0K Jul  1 11:00 Desktop\n",
        "drwxr-xr-x  2 brentp brentp 4.0K Jul  3 08:42 Documents\n",
        "drwxr-xr-x  4 brentp brentp 4.0K Jul 15 16:42 Downloads\n",
        "drwx------ 20 brentp brentp 4.0K Jul 12 07:44 Dropbox\n",
        "drwx------  3 brentp brentp 4.0K Jul  1 11:10 EFI\n",
        "drwxr-xr-x  2 brentp brentp 4.0K Jul  1 11:00 Music\n",
        "drwxr-xr-x  2 brentp brentp 4.0K Jul  3 09:56 Pictures\n"
       ]
      }
     ],
     "prompt_number": 38
    },
    {
     "cell_type": "markdown",
     "metadata": {
      "slideshow": {
       "slide_type": "fragment"
      }
     },
     "source": [
      "What size is your file?\n"
     ]
    },
    {
     "cell_type": "code",
     "collapsed": false,
     "input": [
      "%%bash\n",
      "ls -lh your.fastq\n"
     ],
     "language": "python",
     "metadata": {},
     "outputs": [
      {
       "output_type": "stream",
       "stream": "stdout",
       "text": [
        "-rw-rw-r-- 1 brentp brentp 2.7M Jul 15 15:37 your.fastq\n"
       ]
      }
     ],
     "prompt_number": 5
    },
    {
     "cell_type": "markdown",
     "metadata": {
      "slideshow": {
       "slide_type": "fragment"
      }
     },
     "source": [
      "Often we want to see the first few lines of a file:\n"
     ]
    },
    {
     "cell_type": "code",
     "collapsed": false,
     "input": [
      "%%bash\n",
      "head your.fastq\n"
     ],
     "language": "python",
     "metadata": {},
     "outputs": [
      {
       "output_type": "stream",
       "stream": "stdout",
       "text": [
        "@M00658:36:000000000-A3KTL:1:1101:15394:1443 1:N:0:17\n",
        "CCCCCAACTCAAATAAACCAAACACCTCTACATCAACAAAATAACATTTTCTCCATAACAAAACTAAAACCCTCAAACAACTCCTCTATCCCCGCTCAATACCTATAATCCAACCCTCCCCGCCTCCACCCTAAANNNNNNNNNNCCGCCAATAACCGCTAANACACAATAACACCAAACAAATAAAAACNCNAACTTTACCCTCTTCCTGTCTCTTATACACATCTCCGAGCCCACGAGACGGACTCCTA\n",
        "+\n",
        "A3AABDAAFFFFGBGGGGBGFGCHHGAFEG5GGHHHHHHGHFHHEHEFHHF5FFH5DG3DGHHCFFGHHHGGGAGAGGHH1BD3FHFFEHHHGC?/EEHHHBHFFGHHGHHHH3EECGEGGEGGEDHHHGGGHFH##########???FGCGGHHHBCG@DA#<<<EFGFGHBGF?GCGHHHGBGFGHHC#;#9;C;CBFGGGBEBFFGFG0BFFFFCBFGFFF0B9/F.9-@BE9.-;;A9?9D<-/9;9\n",
        "@M00658:36:000000000-A3KTL:1:1101:14441:1494 1:N:0:17\n",
        "TTGTAGTAGAGGTTCGGGTAGTAGGTATATTTTTTTTGCTGTCTCTTATACACATCTCCGAGCCCACGAGACGGACTCCTATATCGTATGCCGTCTTCTGCTTGAAAAAAAAAAACAAAAAATACGCATAACAATGATTGCTATATTAATGTAACGTAGAAATAACATACAGTTATCAATGATCATAAGCAAAGTAAGTAGTATATAATGAGCAAGATGAACAATTATCATGGAATAAGAGTAATAATAGT\n",
        "+\n",
        "BBBABFDFFFFBBGDEEGAEFGGGHDFFHHHHHGGGGGGHHHHHHGFHGHFGHGHF5GHGGGGGGHGEEGCEGGEEEFHHHH3BF1FGHFFHGGGHAGHFHFH3BFGFA?@CFA<///00.<011.....0/0000000000000000<000:00.;..:0;;0000;0000009000000909000;0;0///000009000;0900;0;/9//..//////.//:///////:///////9/:///://\n",
        "@M00658:36:000000000-A3KTL:1:1101:15903:1503 1:N:0:17\n",
        "CCCCCTCACCCCCAACTCGAATAAACCGAACACCTCTACATCTGTCTCTTATACACATCTCCGAGCCCACGAGACGGACTCCTATATCGTATGCCGTCTTCTGCTTGAAAAAAAAAACTCATCCGAAAGCAATAGAATGATCTACATCACATAACCCTTCTTGTAATACAAAAGAAGCTAAAACAACAACTACCACAACTGACGGAAGTCTAGGAACAGACAAAAAAAGAAAAAGAACCAAGTTGTTATGT\n"
       ]
      }
     ],
     "prompt_number": 6
    },
    {
     "cell_type": "markdown",
     "metadata": {
      "slideshow": {
       "slide_type": "slide"
      }
     },
     "source": [
      "Or the last few lines:\n"
     ]
    },
    {
     "cell_type": "code",
     "collapsed": false,
     "input": [
      "%%bash \n",
      "tail your.fastq"
     ],
     "language": "python",
     "metadata": {
      "slideshow": {
       "slide_type": "fragment"
      }
     },
     "outputs": [
      {
       "output_type": "stream",
       "stream": "stdout",
       "text": [
        "+\n",
        "CCCCCFBCCCCFGGGGGGGGGGHGGGGGGGGHHHHGCC?FGGHHGHGFHFHHGHGFG@EGHGHGGHBGHFHHFDHFHHGHEGHGHFFFHHHFFHHGFFFFDH2GHGEEFGHFBGFHHBDFF<2DGHDCCDDGFFCCGGGGGGGCGHGHH0GFFGGFHGHCAD.EFFFFFFE:BFFGG?DC;A----:.......//////9//9/A...-/9//9//////...9.9....9...;..;.:/.//////./\n",
        "@M00658:36:000000000-A3KTL:1:1101:16513:13603 1:N:0:17\n",
        "GGTGCGTCGGGGGGATGTTTGTAGTAGAGGTTCGGGCAGTAGGTATATTTTCTGTCTCTTATACACATCTCCGAGCCCACGAGACGGACTCCTATCTCGTATGCCGTCTTCTGCTTGAAAAAAAAAAAAAAAAAAAAACAAAACTAATCCTGACACAGCCCTAGATAGGCCTATAATAAAAACGGAGACAAAACAGCAATGAAGAAAGAAAAAACAGCGAAAAAGCACACAGCAAACACAAAAGATAATAA\n",
        "+\n",
        "BCCBBCCCCCCCGGEGGGGGGGHHHHHHHHGHGGGGGGGHHHGFHHHHHHHGHHHHHFHHHHHHGHHHHHHHGGGGGGHGGGGGGGGGGGHHHHHBHHGGGGGGGGADGGFGGGGGGEGGGGGFFFF--9--9---;-.9....000000900/B0/....///;000/000/;000;0000.-...-.///..9/.//9;0000//0/./:.;.;/.-----...0//....//0......./.000009\n",
        "@M00658:36:000000000-A3KTL:1:1101:21796:13606 1:N:0:17\n",
        "CTCTATCCCCGCTCAATACCTATAATCCAACCCTCCCCGCCTCCACCCTAAAACAACCTCTGTCTCTTATACACATCTCCGAGCCCACGAGACGGACTCCTATCTCGTATGCCGTCTTCTGCTTGAAAAAAAAAAAAACAAAACGCACAAACCATGCAAAATAAAAAAGACAAAAATACAACAACCAAAATGACTCACACAAGAAATAACAAACGCAGAGACAGCACACTGAGGCACAATCGAAAAACTAA\n",
        "+\n",
        "AABBBFFFFCCCGGGGGGGGGGHHHHHHHHHGGGHGGGGGGGGHHHHGHHHHHHHHHGHHHHHHHHHHHHHHHHHHHHHHGGGGGGHGGGGGGGGFGEHHHGHFGHHEFHHHHGGGHGFHFHHHHHHHEHGGGGG@<:.:;..:-;::-9...;00;;009009000-..9///...09900......9.0000000000.:.///000000;..---9.:/9/99././000....9/00../.-..009\n"
       ]
      }
     ],
     "prompt_number": 7
    },
    {
     "cell_type": "markdown",
     "metadata": {
      "slideshow": {
       "slide_type": "fragment"
      }
     },
     "source": [
      "Or a specific number of lines:\n"
     ]
    },
    {
     "cell_type": "code",
     "collapsed": false,
     "input": [
      "%%bash\n",
      "head -n 4 your.fastq"
     ],
     "language": "python",
     "metadata": {
      "slideshow": {
       "slide_type": "fragment"
      }
     },
     "outputs": [
      {
       "output_type": "stream",
       "stream": "stdout",
       "text": [
        "@M00658:36:000000000-A3KTL:1:1101:15394:1443 1:N:0:17\n",
        "CCCCCAACTCAAATAAACCAAACACCTCTACATCAACAAAATAACATTTTCTCCATAACAAAACTAAAACCCTCAAACAACTCCTCTATCCCCGCTCAATACCTATAATCCAACCCTCCCCGCCTCCACCCTAAANNNNNNNNNNCCGCCAATAACCGCTAANACACAATAACACCAAACAAATAAAAACNCNAACTTTACCCTCTTCCTGTCTCTTATACACATCTCCGAGCCCACGAGACGGACTCCTA\n",
        "+\n",
        "A3AABDAAFFFFGBGGGGBGFGCHHGAFEG5GGHHHHHHGHFHHEHEFHHF5FFH5DG3DGHHCFFGHHHGGGAGAGGHH1BD3FHFFEHHHGC?/EEHHHBHFFGHHGHHHH3EECGEGGEGGEDHHHGGGHFH##########???FGCGGHHHBCG@DA#<<<EFGFGHBGF?GCGHHHGBGFGHHC#;#9;C;CBFGGGBEBFFGFG0BFFFFCBFGFFF0B9/F.9-@BE9.-;;A9?9D<-/9;9\n"
       ]
      }
     ],
     "prompt_number": 8
    },
    {
     "cell_type": "markdown",
     "metadata": {
      "slideshow": {
       "slide_type": "fragment"
      }
     },
     "source": [
      "How many lines in the file?"
     ]
    },
    {
     "cell_type": "code",
     "collapsed": false,
     "input": [
      "%%bash\n",
      "wc -l your.fastq"
     ],
     "language": "python",
     "metadata": {
      "slideshow": {
       "slide_type": "fragment"
      }
     },
     "outputs": [
      {
       "output_type": "stream",
       "stream": "stdout",
       "text": [
        "20000 your.fastq\n"
       ]
      }
     ],
     "prompt_number": 11
    },
    {
     "cell_type": "heading",
     "level": 1,
     "metadata": {
      "slideshow": {
       "slide_type": "subslide"
      }
     },
     "source": [
      "What is a FASTQ?"
     ]
    },
    {
     "cell_type": "markdown",
     "metadata": {
      "slideshow": {
       "slide_type": "fragment"
      }
     },
     "source": [
      "A *FASTQ* is a sequence file with quality information. It will be the starting point for many analyses (any -seq analyses you've heard of ChIP-seq, RNA-Seq, etc). Generally, it will consist of 4 lines per record:\n",
      "\n",
      "1. The sequence name. This may include information about the lane and cell it was run on and must be unique throughout the files\n",
      "2. The sequence (ACGT...)\n",
      "3. '+' (/shrug/)\n",
      "4. Quality scores. These are encoded numerical values that indicate the confidence in the corresponding base call\n",
      "\n",
      "Lines 2. and 4. should have the same length\n",
      "\n",
      "A single FASTQ records is not necessarily exactly 4 lines. But it will be for all data we encounter and data from all current sequencers + base-callers."
     ]
    },
    {
     "cell_type": "heading",
     "level": 2,
     "metadata": {
      "slideshow": {
       "slide_type": "slide"
      }
     },
     "source": [
      "Unix Philosophy In Action"
     ]
    },
    {
     "cell_type": "markdown",
     "metadata": {
      "slideshow": {
       "slide_type": "fragment"
      }
     },
     "source": [
      "First, let's create a compressed version of our file:"
     ]
    },
    {
     "cell_type": "code",
     "collapsed": false,
     "input": [
      "%%bash \n",
      "gunzip your.fastq.gz\n",
      "ls -lh your.fastq\n",
      "gzip your.fastq\n",
      "ls -lh your.fastq.gz"
     ],
     "language": "python",
     "metadata": {
      "slideshow": {
       "slide_type": "fragment"
      }
     },
     "outputs": [
      {
       "output_type": "stream",
       "stream": "stdout",
       "text": [
        "-rw-rw-r-- 1 brentp brentp 2.7M Jul 15 15:37 your.fastq\n",
        "-rw-rw-r-- 1 brentp brentp 763K Jul 15 15:37 your.fastq.gz\n"
       ]
      }
     ],
     "prompt_number": 23
    },
    {
     "cell_type": "markdown",
     "metadata": {
      "slideshow": {
       "slide_type": "fragment"
      }
     },
     "source": [
      "Notice how the file is much smaller. Generally, you will send and recive FASTQ files in compressed format to save space.\n",
      "We can't \"see\" the file like before:"
     ]
    },
    {
     "cell_type": "code",
     "collapsed": false,
     "input": [
      "%%bash\n",
      "head -n1 your.fastq.gz"
     ],
     "language": "python",
     "metadata": {
      "slideshow": {
       "slide_type": "fragment"
      }
     },
     "outputs": [],
     "prompt_number": 37
    },
    {
     "cell_type": "markdown",
     "metadata": {
      "slideshow": {
       "slide_type": "fragment"
      }
     },
     "source": [
      "But, we can **PIPE** data from one command to another. Here, we unzip the file in a *stream* to the terminal (STDOUT)\n",
      "and send that output to our \"wc -l\" command:"
     ]
    },
    {
     "cell_type": "code",
     "collapsed": false,
     "input": [
      "%%bash\n",
      "zless your.fastq.gz | head -n 4"
     ],
     "language": "python",
     "metadata": {
      "slideshow": {
       "slide_type": "fragment"
      }
     },
     "outputs": [
      {
       "output_type": "stream",
       "stream": "stdout",
       "text": [
        "@M00658:36:000000000-A3KTL:1:1101:15394:1443 1:N:0:17\n",
        "CCCCCAACTCAAATAAACCAAACACCTCTACATCAACAAAATAACATTTTCTCCATAACAAAACTAAAACCCTCAAACAACTCCTCTATCCCCGCTCAATACCTATAATCCAACCCTCCCCGCCTCCACCCTAAANNNNNNNNNNCCGCCAATAACCGCTAANACACAATAACACCAAACAAATAAAAACNCNAACTTTACCCTCTTCCTGTCTCTTATACACATCTCCGAGCCCACGAGACGGACTCCTA\n",
        "+\n",
        "A3AABDAAFFFFGBGGGGBGFGCHHGAFEG5GGHHHHHHGHFHHEHEFHHF5FFH5DG3DGHHCFFGHHHGGGAGAGGHH1BD3FHFFEHHHGC?/EEHHHBHFFGHHGHHHH3EECGEGGEGGEDHHHGGGHFH##########???FGCGGHHHBCG@DA#<<<EFGFGHBGF?GCGHHHGBGFGHHC#;#9;C;CBFGGGBEBFFGFG0BFFFFCBFGFFF0B9/F.9-@BE9.-;;A9?9D<-/9;9\n"
       ]
      }
     ],
     "prompt_number": 21
    },
    {
     "cell_type": "markdown",
     "metadata": {
      "slideshow": {
       "slide_type": "fragment"
      }
     },
     "source": [
      "Make sure you understand that!"
     ]
    },
    {
     "cell_type": "heading",
     "level": 1,
     "metadata": {
      "slideshow": {
       "slide_type": "slide"
      }
     },
     "source": [
      "Bash Help"
     ]
    },
    {
     "cell_type": "markdown",
     "metadata": {
      "slideshow": {
       "slide_type": "fragment"
      }
     },
     "source": [
      "What if you don't know how to use head?\n",
      "\n",
      "The **man** command will give you useful information on a command.\n",
      "\n",
      "Try '*man cut*' now. We'll be using the **cut** command shortly. What does it do?\n",
      "\n",
      "What does the **sort** command do?\n",
      "\n",
      "What does the **uniq** command do?\n",
      "\n",
      "We'll be using these shortly."
     ]
    },
    {
     "cell_type": "heading",
     "level": 1,
     "metadata": {
      "slideshow": {
       "slide_type": "slide"
      }
     },
     "source": [
      "Bash Pipes"
     ]
    },
    {
     "cell_type": "markdown",
     "metadata": {
      "slideshow": {
       "slide_type": "fragment"
      }
     },
     "source": [
      "We looked at \"|\"'ing bash commands together above. These are a central feature of the shell and will be used quite often.\n",
      "They are used to send the output of one command to another.\n",
      "\n",
      "Below, we will download (wget) some encode data, **cut** (extract) the 4th column that contains the name of the TFBS and do some analysis on it to tell us the 10 most common transcription factor binding sites in the first 12K lines of this ENCODE dataset. \n",
      "\n",
      "\n"
     ]
    },
    {
     "cell_type": "code",
     "collapsed": false,
     "input": [
      "%%bash\n",
      "FILE=http://hgdownload.cse.ucsc.edu/goldenPath/hg19/encodeDCC/wgEncodeRegTfbsClustered/wgEncodeRegTfbsClusteredV2.bed.gz\n",
      "\n",
      "wget --quiet -O - $FILE \\\n",
      "    | zcat - \\\n",
      "    | head -n 7000 \\\n",
      "    | cut -f 4 \\\n",
      "    | sort \\\n",
      "    | uniq -c \\\n",
      "    | sort -k1,1rn \\\n",
      "    | head -n 10"
     ],
     "language": "python",
     "metadata": {
      "slideshow": {
       "slide_type": "fragment"
      }
     },
     "outputs": [
      {
       "output_type": "stream",
       "stream": "stdout",
       "text": [
        "    304 Pol2\n",
        "    278 CTCF\n",
        "    218 Pol2-4H8\n",
        "    212 Egr-1\n",
        "    201 E2F6_(H-50)\n",
        "    196 ZBTB7A_(SC-34508)\n",
        "    167 ELF1_(SC-631)\n",
        "    152 HEY1\n",
        "    146 USF-1\n",
        "    139 ZNF263\n"
       ]
      },
      {
       "output_type": "stream",
       "stream": "stderr",
       "text": [
        "\n",
        "gzip: stdout: Broken pipe\n"
       ]
      }
     ],
     "prompt_number": 36
    },
    {
     "cell_type": "markdown",
     "metadata": {
      "slideshow": {
       "slide_type": "subslide"
      }
     },
     "source": [
      "Pol2 and CTCF are the most common binding site. This makes sense and matches what we know.\n",
      "\n",
      "The above is a fairly complex command (actually 8 commands), but each is very simple. In order, we:\n",
      "\n",
      "1. download (wget) the file to STDOUT (-)\n",
      "2. unzip (zcat) the file on the fly \n",
      "3. take the first 7K lines only (so we don't overload the server)\n",
      "4. extract (cut) out the 4th column (contains the TF name)\n",
      "5. sort the names in order\n",
      "6. count the occurence of each name (this requires sorted input, hence the preceding sort)\n",
      "   the output from uniq -c is 2 columns: count, name.\n",
      "7. sort the first column in reverse order as a number to get the most frequently occuring TF's at the top\n",
      "8. limit to the first 10 lines\n",
      "\n",
      "*Note that we can continue a command by placing a \"\\\" at the end of the line.*\n",
      "\n"
     ]
    },
    {
     "cell_type": "markdown",
     "metadata": {},
     "source": []
    }
   ],
   "metadata": {}
  }
 ]
}