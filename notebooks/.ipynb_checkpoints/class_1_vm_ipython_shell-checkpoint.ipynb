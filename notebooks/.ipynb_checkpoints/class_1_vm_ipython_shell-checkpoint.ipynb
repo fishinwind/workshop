{
 "metadata": {
  "name": ""
 },
 "nbformat": 3,
 "nbformat_minor": 0,
 "worksheets": [
  {
   "cells": [
    {
     "cell_type": "heading",
     "level": 1,
     "metadata": {},
     "source": [
      "Class Structure"
     ]
    },
    {
     "cell_type": "markdown",
     "metadata": {},
     "source": [
      "We will have interactive classes using this IPython notebook format (which we will cover in more detail)\n",
      "\n",
      "The goal of the class is to teach practical tools for anyone to be able to perform an analysis using **linux**."
     ]
    },
    {
     "cell_type": "heading",
     "level": 1,
     "metadata": {},
     "source": [
      "Virtual Machine"
     ]
    },
    {
     "cell_type": "markdown",
     "metadata": {},
     "source": [
      "To give everyone easy access to linux and to some example data, we have prepared a virtual machine with the software and data that we will be using.\n",
      "\n",
      "You can and should run this on your laptop."
     ]
    },
    {
     "cell_type": "heading",
     "level": 1,
     "metadata": {},
     "source": [
      "    Programming (Python, Bash, R)"
     ]
    },
    {
     "cell_type": "markdown",
     "metadata": {},
     "source": [
      "You will be expected to write simple programs. These tools will be useful for any analysis you do in the future.\n",
      "\n",
      "**Python** is a general-purpose programming language, we will use it to read files, filter on values, and to examine our data.\n",
      "Here is an example python program that reads a file and prints out lines that meet some criteria"
     ]
    },
    {
     "cell_type": "code",
     "collapsed": false,
     "input": [
      "for line in open('input.txt'):\n",
      "    parts = line.split(\",\")\n",
      "    if int(parts[1]) > 2000 and int(parts[3]) < 33000:\n",
      "        print line,"
     ],
     "language": "python",
     "metadata": {},
     "outputs": []
    },
    {
     "cell_type": "markdown",
     "metadata": {},
     "source": [
      "That example will print out lines where the 2nd column is above 2000 and the 3rd column is < 33K\n",
      "\n",
      "\n",
      "**Bash** is another scripting language. Bash is where we will type all of our commands. We will create bash scripts to keep a reproducible record of those commands. **Bash** is the access point to a number of **linux** utilities that we will be using.\n",
      "\n",
      "**R** is a statisical language that is very good for visualization and for doing some types of bioinformatic analyses.\n",
      "\n"
     ]
    },
    {
     "cell_type": "code",
     "collapsed": false,
     "input": [
      "2 == 2"
     ],
     "language": "python",
     "metadata": {},
     "outputs": [
      {
       "metadata": {},
       "output_type": "pyout",
       "prompt_number": 1,
       "text": [
        "True"
       ]
      }
     ],
     "prompt_number": 1
    },
    {
     "cell_type": "code",
     "collapsed": false,
     "input": [
      "burp is not burp"
     ],
     "language": "python",
     "metadata": {},
     "outputs": [
      {
       "ename": "NameError",
       "evalue": "name 'burp' is not defined",
       "output_type": "pyerr",
       "traceback": [
        "\u001b[0;31m---------------------------------------------------------------------------\u001b[0m\n\u001b[0;31mNameError\u001b[0m                                 Traceback (most recent call last)",
        "\u001b[0;32m<ipython-input-2-9b1e7095ebb4>\u001b[0m in \u001b[0;36m<module>\u001b[0;34m()\u001b[0m\n\u001b[0;32m----> 1\u001b[0;31m \u001b[0mburp\u001b[0m \u001b[0;32mis\u001b[0m \u001b[0;32mnot\u001b[0m \u001b[0mburp\u001b[0m\u001b[0;34m\u001b[0m\u001b[0m\n\u001b[0m",
        "\u001b[0;31mNameError\u001b[0m: name 'burp' is not defined"
       ]
      }
     ],
     "prompt_number": 2
    },
    {
     "cell_type": "code",
     "collapsed": false,
     "input": [],
     "language": "python",
     "metadata": {},
     "outputs": []
    }
   ],
   "metadata": {}
  }
 ]
}